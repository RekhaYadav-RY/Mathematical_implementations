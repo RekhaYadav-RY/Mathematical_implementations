{
  "nbformat": 4,
  "nbformat_minor": 0,
  "metadata": {
    "colab": {
      "provenance": []
    },
    "kernelspec": {
      "name": "python3",
      "display_name": "Python 3"
    },
    "language_info": {
      "name": "python"
    }
  },
  "cells": [
    {
      "cell_type": "code",
      "execution_count": 1,
      "metadata": {
        "id": "BFAq-A6aj1ko"
      },
      "outputs": [],
      "source": [
        "#import all the necessary libraries\n",
        "import numpy as np"
      ]
    },
    {
      "cell_type": "code",
      "source": [
        "# Function for calculating maximum mutual coherence\n",
        "def max_coh(A):\n",
        "    A /= np.linalg.norm(A, axis=0)\n",
        "    Gram_A = np.dot(A.T, A)\n",
        "    max_coherence = np.max(np.abs(Gram_A - np.diag(np.diag(Gram_A))))\n",
        "    return max_coherence\n",
        "\n",
        "# Function for calculating average mutual coherence\n",
        "def avg_coh(A):\n",
        "    A /= np.linalg.norm(A, axis=0)\n",
        "    gram_A = np.dot(A.T, A)\n",
        "    size = gram_A.shape[0]\n",
        "    avg_coherence = (np.sum(np.abs(gram_A)) - np.trace(gram_A)) / (size * (size - 1))\n",
        "    return avg_coherence"
      ],
      "metadata": {
        "id": "QWo98j0Gj9TD"
      },
      "execution_count": 3,
      "outputs": []
    },
    {
      "cell_type": "code",
      "source": [
        "# function to mean center the data\n",
        "def center_data(X):\n",
        "    # Calculate the mean vector across samples for each feature\n",
        "    mean_vec = np.mean(X, axis=0)\n",
        "    # Subtract the mean vector from each sample\n",
        "    centered_X = X - mean_vec\n",
        "    return centered_X, mean_vec\n",
        "\n",
        "def whiten_data(centered_X):\n",
        "    # Compute the covariance matrix\n",
        "    cov_matrix = np.cov(centered_X, rowvar=False)\n",
        "    # Perform eigenvalue decomposition\n",
        "    eigenvalues, eigenvectors = np.linalg.eigh(cov_matrix)\n",
        "    # Decorrelation transformation\n",
        "    whitened_X = np.dot(centered_X, eigenvectors) @ np.diag(1.0 / np.sqrt(eigenvalues + 1e-10))\n",
        "    return whitened_X\n",
        "\n",
        "# function to normailze the data\n",
        "def normalize_data(whitened_X):\n",
        "    # Calculate the standard deviation vector across samples for each feature\n",
        "    std_vec = np.std(whitened_X, axis=0)\n",
        "    # Normalize each feature by its standard deviation\n",
        "    normalized_X = whitened_X / std_vec\n",
        "    return normalized_X, std_vec"
      ],
      "metadata": {
        "id": "BLrV8lCTkDJr"
      },
      "execution_count": 4,
      "outputs": []
    },
    {
      "cell_type": "code",
      "source": [
        "m = 40  # Number of rows\n",
        "n = 50  # Number of columns\n",
        "A = np.random.randn(m, n)  # generating random normal matrix of size m * n"
      ],
      "metadata": {
        "id": "4wIuMliwkh-D"
      },
      "execution_count": 8,
      "outputs": []
    },
    {
      "cell_type": "code",
      "source": [
        "# Step 1: Centering\n",
        "centered_A, mean_vec = center_data(A)\n",
        "\n",
        "# Step 2: Whitening\n",
        "whitened_A = whiten_data(centered_A)\n",
        "\n",
        "# Step 3: Normalization\n",
        "normalized_A, std_vec = normalize_data(whitened_A)\n",
        "\n",
        "print(\"Max Mutual coherence of PD :\", max_coh(A))\n",
        "print(\"Average coherence of PD :\", avg_coh(A))\n",
        "print(\"Max Mutual coherence of centered PD :\", max_coh(centered_A))\n",
        "print(\"Average coherence of centered PD :\", avg_coh(centered_A))\n",
        "print(\"Max Mutual coherence of whiten PD :\", max_coh(whitened_A))\n",
        "print(\"Average coherence of whiten PD :\", avg_coh(whitened_A))\n",
        "print(\"Max Mutual coherence of normalized PD :\", max_coh(normalized_A))\n",
        "print(\"Average coherence of normailzed PD :\", avg_coh(normalized_A))"
      ],
      "metadata": {
        "colab": {
          "base_uri": "https://localhost:8080/"
        },
        "id": "YgUYHjXaknuw",
        "outputId": "ca5c502d-b005-4228-bbb2-f96dd4f51259"
      },
      "execution_count": 9,
      "outputs": [
        {
          "output_type": "stream",
          "name": "stdout",
          "text": [
            "Max Mutual coherence of PD : 0.5580738007640111\n",
            "Average coherence of PD : 0.12478914140116544\n",
            "Max Mutual coherence of centered PD : 0.5565376086095266\n",
            "Average coherence of centered PD : 0.12605380429466076\n",
            "Max Mutual coherence of whiten PD : 0.8337928159165351\n",
            "Average coherence of whiten PD : 0.04990681832445355\n",
            "Max Mutual coherence of normalized PD : 0.8337928159165351\n",
            "Average coherence of normailzed PD : 0.04990681832445355\n"
          ]
        }
      ]
    },
    {
      "cell_type": "code",
      "source": [
        "# Function for gram schmidt normalization\n",
        "def gram_schmidt(A):\n",
        "    n = A.shape[1]  # Number of column vectors in A\n",
        "    Q = np.zeros_like(A)  # Initialize orthonormal matrix Q\n",
        "\n",
        "    for i in range(n):\n",
        "        vi = A[:, i]  # Get ith column vector\n",
        "        ui = vi.copy()  # Initialize ui as a copy of vi\n",
        "\n",
        "        # Subtract the projections of vi onto previous orthonormal vectors\n",
        "        for j in range(i):\n",
        "            ui -= np.dot(vi, Q[:, j]) * Q[:, j]\n",
        "\n",
        "        # Normalize ui to obtain the ith orthonormal vector qi\n",
        "        Q[:, i] = ui / np.linalg.norm(ui)\n",
        "\n",
        "    return Q"
      ],
      "metadata": {
        "id": "Zdt-BDhJk4DE"
      },
      "execution_count": 11,
      "outputs": []
    },
    {
      "cell_type": "code",
      "source": [
        "A_g_s = gram_schmidt(A)\n",
        "print(\"Max Mutual coherence of gram schmidt normalized PD :\", max_coh(A_g_s))\n",
        "print(\"Average coherence of gram schmidt normailzed PD :\", avg_coh(A_g_s))"
      ],
      "metadata": {
        "colab": {
          "base_uri": "https://localhost:8080/"
        },
        "id": "r-1DAETzlA_K",
        "outputId": "32cefc88-322c-4cfe-8f16-db34a4e5f7ae"
      },
      "execution_count": 13,
      "outputs": [
        {
          "output_type": "stream",
          "name": "stdout",
          "text": [
            "Max Mutual coherence of gram schmidt normalized PD : 1.0000000000000004\n",
            "Average coherence of gram schmidt normailzed PD : 0.06303377986826832\n"
          ]
        }
      ]
    },
    {
      "cell_type": "code",
      "source": [],
      "metadata": {
        "id": "5hEmcgP7lWj5"
      },
      "execution_count": null,
      "outputs": []
    }
  ]
}